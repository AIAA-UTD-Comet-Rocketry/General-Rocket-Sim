{
 "cells": [
  {
   "cell_type": "code",
   "execution_count": 1,
   "id": "0cd560fd",
   "metadata": {},
   "outputs": [
    {
     "name": "stderr",
     "output_type": "stream",
     "text": [
      "WARNING:root:No specific class found for tag 'stage'. Using default Subcomponent.\n",
      "WARNING:root:No specific class found for tag 'stage'. Using default Subcomponent.\n",
      "WARNING:root:No specific class found for tag 'stage'. Using default Subcomponent.\n",
      "WARNING:root:No specific class found for tag 'stage'. Using default Subcomponent.\n",
      "WARNING:root:No specific class found for tag 'stage'. Using default Subcomponent.\n",
      "WARNING:root:No specific class found for tag 'nosecone'. Using default Subcomponent.\n",
      "WARNING:root:No specific class found for tag 'bodytube'. Using default Subcomponent.\n",
      "WARNING:root:No specific class found for tag 'tubecoupler'. Using default Subcomponent.\n",
      "WARNING:root:No specific class found for tag 'bulkhead'. Using default Subcomponent.\n",
      "WARNING:root:No specific class found for tag 'shockcord'. Using default Subcomponent.\n",
      "WARNING:root:No specific class found for tag 'parachute'. Using default Subcomponent.\n",
      "WARNING:root:No specific class found for tag 'railbutton'. Using default Subcomponent.\n",
      "WARNING:root:No specific class found for tag 'railbutton'. Using default Subcomponent.\n",
      "WARNING:root:No specific class found for tag 'masscomponent'. Using default Subcomponent.\n",
      "WARNING:root:No specific class found for tag 'bodytube'. Using default Subcomponent.\n",
      "WARNING:root:No specific class found for tag 'tubecoupler'. Using default Subcomponent.\n",
      "WARNING:root:No specific class found for tag 'bodytube'. Using default Subcomponent.\n",
      "WARNING:root:No specific class found for tag 'innertube'. Using default Subcomponent.\n",
      "WARNING:root:No specific class found for tag 'trapezoidfinset'. Using default Subcomponent.\n",
      "WARNING:root:No specific class found for tag 'centeringring'. Using default Subcomponent.\n",
      "WARNING:root:No specific class found for tag 'centeringring'. Using default Subcomponent.\n",
      "WARNING:root:No specific class found for tag 'tubecoupler'. Using default Subcomponent.\n",
      "WARNING:root:No specific class found for tag 'bulkhead'. Using default Subcomponent.\n",
      "WARNING:root:No specific class found for tag 'shockcord'. Using default Subcomponent.\n",
      "WARNING:root:No specific class found for tag 'parachute'. Using default Subcomponent.\n",
      "WARNING:root:No specific class found for tag 'railbutton'. Using default Subcomponent.\n",
      "WARNING:root:No specific class found for tag 'railbutton'. Using default Subcomponent.\n",
      "WARNING:root:No specific class found for tag 'masscomponent'. Using default Subcomponent.\n",
      "WARNING:root:No specific class found for tag 'tubecoupler'. Using default Subcomponent.\n",
      "WARNING:root:No specific class found for tag 'innertube'. Using default Subcomponent.\n",
      "WARNING:root:No specific class found for tag 'trapezoidfinset'. Using default Subcomponent.\n",
      "WARNING:root:No specific class found for tag 'centeringring'. Using default Subcomponent.\n",
      "WARNING:root:No specific class found for tag 'centeringring'. Using default Subcomponent.\n"
     ]
    },
    {
     "name": "stdout",
     "output_type": "stream",
     "text": [
      "Tree: <xml.etree.ElementTree.ElementTree object at 0x000001D2FE67B810>\n",
      "Root: <Element 'openrocket' at 0x000001D2F013B290>\n"
     ]
    },
    {
     "data": {
      "text/plain": [
       "<openrocket_parser.components.rocket.Rocket at 0x1d2ff3740d0>"
      ]
     },
     "execution_count": 1,
     "metadata": {},
     "output_type": "execute_result"
    }
   ],
   "source": [
    "import sys, os\n",
    "sys.path.append(os.getcwd() + \"/FredScript/src\")\n",
    "\n",
    "from openrocket_parser.core import load_rocket_from_xml\n",
    "\n",
    "filePath = os.getcwd() + \"/ReferencedFiles/sample.ork\"\n",
    "\n",
    "load_rocket_from_xml(filePath)"
   ]
  }
 ],
 "metadata": {
  "kernelspec": {
   "display_name": "Python 3",
   "language": "python",
   "name": "python3"
  },
  "language_info": {
   "codemirror_mode": {
    "name": "ipython",
    "version": 3
   },
   "file_extension": ".py",
   "mimetype": "text/x-python",
   "name": "python",
   "nbconvert_exporter": "python",
   "pygments_lexer": "ipython3",
   "version": "3.11.0"
  }
 },
 "nbformat": 4,
 "nbformat_minor": 5
}
