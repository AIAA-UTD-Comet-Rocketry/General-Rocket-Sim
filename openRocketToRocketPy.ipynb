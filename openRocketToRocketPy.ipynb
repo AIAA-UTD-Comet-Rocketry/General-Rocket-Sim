{
 "cells": [
  {
   "cell_type": "code",
   "execution_count": 6,
   "id": "0cd560fd",
   "metadata": {},
   "outputs": [],
   "source": [
    "import sys, os\n",
    "sys.path.append(os.getcwd() + \"/FredScript/src\")\n",
    "\n",
    "from openrocket_parser.components.rocket import Rocket"
   ]
  }
 ],
 "metadata": {
  "kernelspec": {
   "display_name": "Python 3",
   "language": "python",
   "name": "python3"
  },
  "language_info": {
   "codemirror_mode": {
    "name": "ipython",
    "version": 3
   },
   "file_extension": ".py",
   "mimetype": "text/x-python",
   "name": "python",
   "nbconvert_exporter": "python",
   "pygments_lexer": "ipython3",
   "version": "3.11.0"
  }
 },
 "nbformat": 4,
 "nbformat_minor": 5
}
